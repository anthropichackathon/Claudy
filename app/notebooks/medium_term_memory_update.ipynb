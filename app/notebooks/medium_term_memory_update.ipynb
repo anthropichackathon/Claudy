{
 "cells": [
  {
   "cell_type": "code",
   "execution_count": null,
   "id": "initial_id",
   "metadata": {
    "collapsed": true
   },
   "outputs": [],
   "source": [
    "from dotenv import load_dotenv\n",
    "import app.src.utils.claude as claude\n",
    "import os\n",
    "import app.src.utils.prompts as prompts\n",
    "import app.src.utils.update as update\n",
    "\n",
    "load_dotenv()\n",
    "llm_setup = claude.get_anthropic()"
   ]
  },
  {
   "cell_type": "code",
   "execution_count": null,
   "outputs": [],
   "source": [
    "mtm_template = open(\"../data/medium_term_memory/MTM_template.xml\", \"r\").read()\n",
    "# Check if the mtm_update.xml file exists in the directory \n",
    "# If it does, load it\n",
    "if os.path.isfile(\"../data/medium_term_memory/MTM_current.xml\"):\n",
    "    mtm_current = open(\"../data/medium_term_memory/MTM_current.xml\", \"r\").read()\n",
    "else:\n",
    "    mtm_current = mtm_template"
   ],
   "metadata": {
    "collapsed": false
   },
   "id": "1714ff68ba5479af"
  },
  {
   "cell_type": "code",
   "execution_count": null,
   "outputs": [],
   "source": [
    "# Check if the mtm_update.xml file exists in the directory \"../data/short_term_memory/\"\n",
    "# If it does, load it\n",
    "if os.path.isfile(\"../data/medium_term_memory/MTM_update.xml\"):\n",
    "    mtm_update = open(\"../data/medium_term_memory/MTM_update.xml\", \"r\").read()\n",
    "else:\n",
    "    mtm_update = None\n",
    "\n",
    "if mtm_update is not None:\n",
    "    # If the mtm_update.xml file exists, load it into the LLM\n",
    "    response = claude.claude_call(llm_setup, prompts.mtm_update_promt(mtm_current, mtm_update), max_tokens=10000)\n",
    "    print(response)"
   ],
   "metadata": {
    "collapsed": false
   },
   "id": "c26fb50153de7c96"
  },
  {
   "cell_type": "code",
   "execution_count": null,
   "outputs": [],
   "source": [
    "# Update the medium term memory\n",
    "update.mtm_update(response)"
   ],
   "metadata": {
    "collapsed": false
   },
   "id": "9e0b1cb07ee6c5a9"
  }
 ],
 "metadata": {
  "kernelspec": {
   "display_name": "Python 3",
   "language": "python",
   "name": "python3"
  },
  "language_info": {
   "codemirror_mode": {
    "name": "ipython",
    "version": 2
   },
   "file_extension": ".py",
   "mimetype": "text/x-python",
   "name": "python",
   "nbconvert_exporter": "python",
   "pygments_lexer": "ipython2",
   "version": "2.7.6"
  }
 },
 "nbformat": 4,
 "nbformat_minor": 5
}
