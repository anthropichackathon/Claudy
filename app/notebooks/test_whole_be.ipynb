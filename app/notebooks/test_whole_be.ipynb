{
 "cells": [
  {
   "cell_type": "code",
   "execution_count": 1,
   "id": "initial_id",
   "metadata": {
    "collapsed": true,
    "ExecuteTime": {
     "end_time": "2023-11-04T23:28:13.191205100Z",
     "start_time": "2023-11-04T23:27:59.278168Z"
    }
   },
   "outputs": [],
   "source": [
    "from src.processors import first_round\n",
    "\n",
    "bio = \"\"\"\n",
    "I was born on April 15, 1975, in the vibrant city of Portland, Oregon, as the only child of Mary and Robert Smith. Both my parents were journalists, which naturally sparked my early interest in storytelling and writing. My high school years at Lincoln High were instrumental in shaping my passion for English literature. I found myself captivated by the works of Ernest Hemingway and F. Scott Fitzgerald, which played a significant role in honing my writing style.  \n",
    "   \n",
    "Upon graduating high school in 1993, I attended Harvard University, pursuing a degree in English Literature. It was during these years that I delved into various forms of writing, sharpening my craft, and simultaneously developing an interest in environmental issues. Graduating with honors in 1997, I was ready to embark on my professional journey.  \n",
    "   \n",
    "My career began as a journalist for The Boston Globe. My articles, which often centered around environmental issues, were highly acclaimed and well-received. However, my true calling was storytelling, and I yearned to create my own world of characters. Following this passion, I left my job in 2002 to focus on writing my debut novel.  \n",
    "   \n",
    "\"Beneath the Green Sky,\" my first book, was published in 2005. The narrative, a poignant commentary on environmental destruction, was a bestseller and won the Pulitzer Prize for Fiction in 2006. This success marked the beginning of my illustrious writing career, and over the next decade, I published several more novels, each tackling different social issues.  \n",
    "   \n",
    "In 2010, driven by my passion for the environment, I founded \"Greener Tomorrow,\" a non-profit organization aimed at promoting environmental awareness and sustainable practices. This endeavor further solidified my status as a prominent environmental activist.  \n",
    "   \n",
    "Amidst all this, I've always prioritized my personal life. In 2000, I married my college sweetheart, Emily, and we've been blessed with two wonderful children. They are my main source of inspiration and motivation.  \n",
    "   \n",
    "Recently, I've ventured into public speaking, delivering speeches on the importance of preserving our environment and leveraging literature as a tool for social change. I've also started teaching creative writing at Harvard, hoping to inspire the next generation of writers.  \n",
    "   \n",
    "Today, I consider myself fortunate to be recognized as one of the most influential authors and environmental activists of my time. My works continue to inspire millions around the world, and my dedication to environmental conservation has sparked significant change.  \n",
    "   \n",
    "I firmly believe that one person can indeed make a difference. Through my words, both written and spoken, I strive to influence and inspire, leaving an indelible mark on literature and environmental activism.\n",
    "\"\"\"\n",
    "\n",
    "first_round.run(bio)"
   ]
  },
  {
   "cell_type": "code",
   "execution_count": 2,
   "outputs": [
    {
     "name": "stdout",
     "output_type": "stream",
     "text": [
      "retrieve_query=''\n",
      "store_query='I must clean my dirty ass room'\n",
      "stm_update_response=' <short_term_memory>\\n    <context>\\n        This is a short-term memory of the AI assistant. It is used to store the latest information. The memory contains 10 slots for most current topics.\\n    </context> \\n    <memory_slots>\\n        <slot_1>I must clean my dirty ass room</slot_1>\\n        <slot_2></slot_2>\\n        <slot_3></slot_3>\\n        <slot_4></slot_4>\\n        <slot_5></slot_5>\\n        <slot_6></slot_6>\\n        <slot_7></slot_7>\\n        <slot_8></slot_8>\\n        <slot_9></slot_9>\\n        <slot_10></slot_10>\\n    </memory_slots>\\n</short_term_memory>'\n",
      "stm_current='<short_term_memory>\\n    <context>\\n        This is a short-term memory of the AI assistant. It is used to store the latest information. The memory contains 10 slots for most current topics.\\n    </context>\\n    <memory_slots>\\n        <slot_1></slot_1>\\n        <slot_2></slot_2>\\n        <slot_3></slot_3>\\n        <slot_4></slot_4>\\n        <slot_5></slot_5>\\n        <slot_6></slot_6>\\n        <slot_7></slot_7>\\n        <slot_8></slot_8>\\n        <slot_9></slot_9>\\n        <slot_10></slot_10>\\n    </memory_slots>\\n</short_term_memory>'\n"
     ]
    },
    {
     "data": {
      "text/plain": "''"
     },
     "execution_count": 2,
     "metadata": {},
     "output_type": "execute_result"
    }
   ],
   "source": [
    "from src.processors import decision_maker\n",
    "\n",
    "todo = \"\"\"\n",
    "I'm currently engrossed in a book called \"Sapiens\" by Yuval Noah Harari and also plan to delve deeper into the world of Artificial Intelligence with an online course next month. I've set my sight on running a half marathon in December and have started my daily training. In my leisure time, I paint and cook, currently working on a landscape and experimenting with Italian cuisine. I'm also preparing for a hiking trip to the Rocky Mountains next summer. Professionally, I aim to learn three new programming languages by the end of this year. On a personal note, I'm trying to live more sustainably and have a goal to drastically reduce my carbon footprint by next year. My reading goal for this year is 50 books. Jazz music is my escape, and I'm learning to play the saxophone. I've also committed to volunteering for a local NGO once a month. Astronomy fascinates me, and I plan to buy a telescope soon. My financial goal is to save enough for a trip to Japan next year. My love for photography is pushing me to start a photo blog. To improve my public speaking skills, I plan to join Toastmasters. I'm also aiming for a promotion at work within the next six months. I wish to give a home to a pet, so planning to adopt one from a local shelter soon. I'm also learning Spanish and aim to be fluent in a year. I look forward to starting a vegetable garden in my backyard this spring and practicing mindfulness meditation daily to improve my mental health.\n",
    "\"\"\"\n",
    "\n",
    "todo = \"\"\"I need to brush my teeth, take a shower, and go to bed.\"\"\"\n",
    "\n",
    "decision_maker.run(todo)"
   ],
   "metadata": {
    "collapsed": false,
    "ExecuteTime": {
     "end_time": "2023-11-04T23:51:53.327422Z",
     "start_time": "2023-11-04T23:51:47.615250300Z"
    }
   },
   "id": "531be01ea29dafd9"
  },
  {
   "cell_type": "code",
   "execution_count": 1,
   "outputs": [
    {
     "name": "stdout",
     "output_type": "stream",
     "text": [
      "Reading memory from file\n",
      "Memory file read, 2 elements\n"
     ]
    }
   ],
   "source": [
    "\n",
    "from src.utils.db import SingletonDataFrame\n",
    "\n",
    "db_instance = SingletonDataFrame()"
   ],
   "metadata": {
    "collapsed": false,
    "ExecuteTime": {
     "end_time": "2023-11-05T00:41:04.920055500Z",
     "start_time": "2023-11-05T00:41:03.452214200Z"
    }
   },
   "id": "830774a13c8aa6e1"
  },
  {
   "cell_type": "code",
   "execution_count": 2,
   "outputs": [
    {
     "name": "stdout",
     "output_type": "stream",
     "text": [
      "Breakthrough in biodegradable plastics could reduce waste in oceans. The latest research in neural networks has yielded significant improvements in language model accuracy. Sustainable farming practices are becoming increasingly prevalent as a response to climate change. This is some example content.\n",
      "----\n",
      "The global economy is showing signs of recovery, with a noticeable increase in job creation. Cybersecurity experts warn of the increasing sophistication of phishing attacks. The impact of social media on mental health is a growing concern among experts. Innovations in renewable energy continue to advance the efficiency of solar panels. Quantum computing takes a leap forward with the development of a new type of qubit. A study shows that early education is critical for developing problem-solving skills in children. Artificial intelligence applications are revolutionizing the approach to disease diagnosis and treatment.\n",
      "----\n"
     ]
    }
   ],
   "source": [
    "for el in db_instance.df[\"content\"]:\n",
    "    print(el)\n",
    "    print(\"----\")"
   ],
   "metadata": {
    "collapsed": false,
    "ExecuteTime": {
     "end_time": "2023-11-05T00:41:09.031446700Z",
     "start_time": "2023-11-05T00:41:09.017633900Z"
    }
   },
   "id": "7fdf4dc4784b613e"
  },
  {
   "cell_type": "code",
   "execution_count": null,
   "outputs": [],
   "source": [],
   "metadata": {
    "collapsed": false
   },
   "id": "1540ac5a07a01999"
  }
 ],
 "metadata": {
  "kernelspec": {
   "display_name": "Python 3",
   "language": "python",
   "name": "python3"
  },
  "language_info": {
   "codemirror_mode": {
    "name": "ipython",
    "version": 2
   },
   "file_extension": ".py",
   "mimetype": "text/x-python",
   "name": "python",
   "nbconvert_exporter": "python",
   "pygments_lexer": "ipython2",
   "version": "2.7.6"
  }
 },
 "nbformat": 4,
 "nbformat_minor": 5
}
