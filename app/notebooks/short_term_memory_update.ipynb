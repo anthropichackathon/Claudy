{
 "cells": [
  {
   "cell_type": "code",
   "execution_count": 1,
   "id": "initial_id",
   "metadata": {
    "collapsed": true,
    "ExecuteTime": {
     "end_time": "2023-11-04T22:39:46.185252400Z",
     "start_time": "2023-11-04T22:39:45.752887700Z"
    }
   },
   "outputs": [],
   "source": [
    "from dotenv import load_dotenv\n",
    "import app.src.utils.claude as claude\n",
    "import app.src.utils.prompts as prompts\n",
    "import app.src.utils.update as update\n",
    "\n",
    "load_dotenv()\n",
    "llm_setup = claude.get_anthropic()"
   ]
  },
  {
   "cell_type": "code",
   "execution_count": 2,
   "outputs": [],
   "source": [
    "input = \"I am hungry, I think i have not cleaned my kitchen for ages, and my sink is overflowing with dirty dishes. I am so lazy. My boss is mad at me. I have a lot of paperwork to do. My cat is so cute. I love my cat. I think i could eat a sandwich\""
   ],
   "metadata": {
    "collapsed": false,
    "ExecuteTime": {
     "end_time": "2023-11-04T22:39:49.246765800Z",
     "start_time": "2023-11-04T22:39:49.213789100Z"
    }
   },
   "id": "2ecf00aa269baafd"
  },
  {
   "cell_type": "code",
   "execution_count": 3,
   "outputs": [],
   "source": [
    "stm_current = open(\"../data/short_term_memory/STM_current.xml\", \"r\").read()"
   ],
   "metadata": {
    "collapsed": false,
    "ExecuteTime": {
     "end_time": "2023-11-04T22:39:50.231851600Z",
     "start_time": "2023-11-04T22:39:50.214126900Z"
    }
   },
   "id": "f4a554438a83a565"
  },
  {
   "cell_type": "code",
   "execution_count": 4,
   "outputs": [],
   "source": [
    "response = claude.claude_call(llm_setup, prompts.stm_update_prompt(stm_current, input), max_tokens=10000)"
   ],
   "metadata": {
    "collapsed": false,
    "ExecuteTime": {
     "end_time": "2023-11-04T22:39:57.403709200Z",
     "start_time": "2023-11-04T22:39:51.337029500Z"
    }
   },
   "id": "a1a64e361bdbaa11"
  },
  {
   "cell_type": "code",
   "execution_count": 5,
   "outputs": [],
   "source": [
    "# Update the short term memory\n",
    "update.stm_update(response)"
   ],
   "metadata": {
    "collapsed": false,
    "ExecuteTime": {
     "end_time": "2023-11-04T22:39:58.303574700Z",
     "start_time": "2023-11-04T22:39:58.287511400Z"
    }
   },
   "id": "6e14c20be57a36fb"
  },
  {
   "cell_type": "code",
   "execution_count": null,
   "outputs": [],
   "source": [],
   "metadata": {
    "collapsed": false
   },
   "id": "214d4a858984f16"
  }
 ],
 "metadata": {
  "kernelspec": {
   "display_name": "Python 3",
   "language": "python",
   "name": "python3"
  },
  "language_info": {
   "codemirror_mode": {
    "name": "ipython",
    "version": 2
   },
   "file_extension": ".py",
   "mimetype": "text/x-python",
   "name": "python",
   "nbconvert_exporter": "python",
   "pygments_lexer": "ipython2",
   "version": "2.7.6"
  }
 },
 "nbformat": 4,
 "nbformat_minor": 5
}
