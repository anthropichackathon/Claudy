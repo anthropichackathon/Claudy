{
 "cells": [
  {
   "cell_type": "code",
   "execution_count": null,
   "id": "initial_id",
   "metadata": {
    "collapsed": true
   },
   "outputs": [],
   "source": [
    "from dotenv import load_dotenv\n",
    "import app.src.utils.claude as claude\n",
    "import app.src.utils.prompts as prompts\n",
    "import app.src.utils.update as update\n",
    "\n",
    "load_dotenv()\n",
    "llm_setup = claude.get_anthropic()"
   ]
  },
  {
   "cell_type": "code",
   "execution_count": null,
   "outputs": [],
   "source": [
    "# Simulated input from the human\n",
    "input = \"Hi, My name is John. I am 30 years old, my favorite color is blue, and I like to play tennis. I work as accountant. My goal is to become professional chef. I have to clean the dishes.\""
   ],
   "metadata": {
    "collapsed": false
   },
   "id": "429091dce5fd9bfe"
  },
  {
   "cell_type": "code",
   "execution_count": null,
   "outputs": [],
   "source": [
    "# Import xml templates as strings\n",
    "bio_template = open(\"../data/bio/BIO_template.xml\", \"r\").read()"
   ],
   "metadata": {
    "collapsed": false
   },
   "id": "f08ee3c0b0d1acdd"
  },
  {
   "cell_type": "code",
   "execution_count": null,
   "outputs": [],
   "source": [
    "response = claude.claude_call(llm_setup, prompts.bio_prompt(input), max_tokens=10000)"
   ],
   "metadata": {
    "collapsed": false
   },
   "id": "9d6aa49fbd48a691"
  },
  {
   "cell_type": "code",
   "execution_count": null,
   "outputs": [],
   "source": [
    "# Update the bio\n",
    "update.bio_update(response)\n",
    "\n",
    "# Update the STM\n",
    "update.stm_update(response)\n"
   ],
   "metadata": {
    "collapsed": false
   },
   "id": "5d1fb24ea1f75a03"
  }
 ],
 "metadata": {
  "kernelspec": {
   "display_name": "Python 3",
   "language": "python",
   "name": "python3"
  },
  "language_info": {
   "codemirror_mode": {
    "name": "ipython",
    "version": 2
   },
   "file_extension": ".py",
   "mimetype": "text/x-python",
   "name": "python",
   "nbconvert_exporter": "python",
   "pygments_lexer": "ipython2",
   "version": "2.7.6"
  }
 },
 "nbformat": 4,
 "nbformat_minor": 5
}
