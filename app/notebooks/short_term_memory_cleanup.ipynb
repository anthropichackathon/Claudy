{
 "cells": [
  {
   "cell_type": "code",
   "execution_count": 7,
   "id": "initial_id",
   "metadata": {
    "collapsed": true,
    "ExecuteTime": {
     "end_time": "2023-11-04T23:11:31.711542800Z",
     "start_time": "2023-11-04T23:11:31.683602Z"
    }
   },
   "outputs": [],
   "source": [
    "from dotenv import load_dotenv\n",
    "import app.src.utils.claude as claude\n",
    "import app.src.utils.tags as tags\n",
    "import app.src.utils.prompts as prompts\n",
    "import app.src.utils.update as update\n",
    "\n",
    "load_dotenv()\n",
    "llm_setup = claude.get_anthropic()"
   ]
  },
  {
   "cell_type": "code",
   "execution_count": 8,
   "outputs": [],
   "source": [
    "stm_current = open(\"../data/short_term_memory/STM_current.xml\", \"r\").read()"
   ],
   "metadata": {
    "collapsed": false,
    "ExecuteTime": {
     "end_time": "2023-11-04T23:11:32.449241300Z",
     "start_time": "2023-11-04T23:11:32.429729600Z"
    }
   },
   "id": "592e91713d0732e1"
  },
  {
   "cell_type": "code",
   "execution_count": 9,
   "outputs": [],
   "source": [
    "# Check if <slot_7> is filled\n",
    "if tags.get_tag_content(stm_current, \"slot_7\") == \"\":\n",
    "    clean_up = False\n",
    "else:\n",
    "    clean_up = True\n",
    "\n",
    "if clean_up:\n",
    "    response = claude.claude_call(llm_setup, prompts.stm_cleanup_prompt(stm_current), max_tokens=10000)\n",
    "    print(response)\n",
    "    \n",
    "    # Get the list of chunks for ltm update\n",
    "    ltm_update = tags.extract_chunks(response)\n",
    "    # Medium term memory update\n",
    "    update.mtm_update(response)"
   ],
   "metadata": {
    "collapsed": false,
    "ExecuteTime": {
     "end_time": "2023-11-04T23:11:33.174135900Z",
     "start_time": "2023-11-04T23:11:33.167836200Z"
    }
   },
   "id": "9893409258e5e6f0"
  },
  {
   "cell_type": "code",
   "execution_count": null,
   "outputs": [],
   "source": [],
   "metadata": {
    "collapsed": false
   },
   "id": "a9a223f3720da72"
  }
 ],
 "metadata": {
  "kernelspec": {
   "display_name": "Python 3",
   "language": "python",
   "name": "python3"
  },
  "language_info": {
   "codemirror_mode": {
    "name": "ipython",
    "version": 2
   },
   "file_extension": ".py",
   "mimetype": "text/x-python",
   "name": "python",
   "nbconvert_exporter": "python",
   "pygments_lexer": "ipython2",
   "version": "2.7.6"
  }
 },
 "nbformat": 4,
 "nbformat_minor": 5
}
