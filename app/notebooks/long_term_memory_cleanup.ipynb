{
 "cells": [
  {
   "cell_type": "code",
   "execution_count": null,
   "id": "initial_id",
   "metadata": {
    "collapsed": true
   },
   "outputs": [],
   "source": [
    "from dotenv import load_dotenv\n",
    "import app.src.utils.claude as claude\n",
    "import app.src.utils.tags as tags\n",
    "import app.src.utils.prompts as prompts\n",
    "\n",
    "load_dotenv()\n",
    "llm_setup = claude.get_anthropic()"
   ]
  },
  {
   "cell_type": "code",
   "execution_count": null,
   "outputs": [],
   "source": [
    "test_string = \"\"\"\n",
    "1. Document ID: 8347, Snippet: \"Innovations in renewable energy continue to advance the efficiency of solar panels.\", Similarity Score: 0.92\n",
    "2. Document ID: 2910, Snippet: \"The latest research in neural networks has yielded significant improvements in language model accuracy.\", Similarity Score: 0.89\n",
    "3. Document ID: 4583, Snippet: \"Sustainable farming practices are becoming increasingly prevalent as a response to climate change.\", Similarity Score: 0.88\n",
    "4. Document ID: 6721, Snippet: \"Breakthrough in biodegradable plastics could reduce waste in oceans.\", Similarity Score: 0.85\n",
    "5. Document ID: 5409, Snippet: \"Quantum computing takes a leap forward with the development of a new type of qubit.\", Similarity Score: 0.84\n",
    "6. Document ID: 3199, Snippet: \"A study shows that early education is critical for developing problem-solving skills in children.\", Similarity Score: 0.83\n",
    "7. Document ID: 1215, Snippet: \"Artificial intelligence applications are revolutionizing the approach to disease diagnosis and treatment.\", Similarity Score: 0.81\n",
    "8. Document ID: 7834, Snippet: \"The global economy is showing signs of recovery, with a noticeable increase in job creation.\", Similarity Score: 0.79\n",
    "9. Document ID: 4560, Snippet: \"Cybersecurity experts warn of the increasing sophistication of phishing attacks.\", Similarity Score: 0.76\n",
    "10. Document ID: 8821, Snippet: \"The impact of social media on mental health is a growing concern among experts.\", Similarity Score: 0.74\n",
    "\"\"\""
   ],
   "metadata": {
    "collapsed": false
   },
   "id": "1d47a60b660e95ae"
  },
  {
   "cell_type": "code",
   "execution_count": null,
   "outputs": [],
   "source": [
    "response = claude.claude_call(llm_setup, prompts.ltm_cleanup_prompt(test_string), max_tokens=10000)\n",
    "print(response)"
   ],
   "metadata": {
    "collapsed": false
   },
   "id": "109dd9ab4900eb13"
  },
  {
   "cell_type": "code",
   "execution_count": null,
   "outputs": [],
   "source": [
    "# Get the list of chunks for ltm update\n",
    "ltm_update = tags.extract_chunks(response)"
   ],
   "metadata": {
    "collapsed": false
   },
   "id": "404f53667e723e4e"
  }
 ],
 "metadata": {
  "kernelspec": {
   "display_name": "Python 3",
   "language": "python",
   "name": "python3"
  },
  "language_info": {
   "codemirror_mode": {
    "name": "ipython",
    "version": 2
   },
   "file_extension": ".py",
   "mimetype": "text/x-python",
   "name": "python",
   "nbconvert_exporter": "python",
   "pygments_lexer": "ipython2",
   "version": "2.7.6"
  }
 },
 "nbformat": 4,
 "nbformat_minor": 5
}
