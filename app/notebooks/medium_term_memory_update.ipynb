{
 "cells": [
  {
   "cell_type": "code",
   "execution_count": 1,
   "id": "initial_id",
   "metadata": {
    "collapsed": true,
    "ExecuteTime": {
     "end_time": "2023-11-04T22:37:17.152850800Z",
     "start_time": "2023-11-04T22:37:16.429134300Z"
    }
   },
   "outputs": [],
   "source": [
    "from dotenv import load_dotenv\n",
    "import app.src.utils.claude as claude\n",
    "import os\n",
    "import app.src.utils.prompts as prompts\n",
    "import app.src.utils.update as update\n",
    "\n",
    "load_dotenv()\n",
    "llm_setup = claude.get_anthropic()"
   ]
  },
  {
   "cell_type": "code",
   "execution_count": 2,
   "outputs": [],
   "source": [
    "mtm_template = open(\"../data/medium_term_memory/MTM_template.xml\", \"r\").read()\n",
    "# Check if the mtm_update.xml file exists in the directory \n",
    "# If it does, load it\n",
    "if os.path.isfile(\"../data/medium_term_memory/MTM_current.xml\"):\n",
    "    mtm_current = open(\"../data/medium_term_memory/MTM_current.xml\", \"r\").read()\n",
    "else:\n",
    "    mtm_current = mtm_template"
   ],
   "metadata": {
    "collapsed": false,
    "ExecuteTime": {
     "end_time": "2023-11-04T22:37:17.173643200Z",
     "start_time": "2023-11-04T22:37:17.154984900Z"
    }
   },
   "id": "1714ff68ba5479af"
  },
  {
   "cell_type": "code",
   "execution_count": 3,
   "outputs": [
    {
     "name": "stdout",
     "output_type": "stream",
     "text": [
      " <templates>\n",
      "    <medium_term_memory>\n",
      "        <context>\n",
      "            This is a medium term memory of the AI assistant. It is used to store the general information regarding the closer future. The memory contains 3 defined topics.\n",
      "        </context>\n",
      "        <to_do_list>\n",
      "- Paint living room\n",
      "- Go to the vet with my dog\n",
      "        </to_do_list>\n",
      "        <goals_with_deadlines></goals_with_deadlines>\n",
      "        <reminders>\n",
      "- My mam is sick\n",
      "        </reminders>\n",
      "    </medium_term_memory>\n",
      "</templates>\n"
     ]
    }
   ],
   "source": [
    "# Check if the mtm_update.xml file exists in the directory \"../data/short_term_memory/\"\n",
    "# If it does, load it\n",
    "if os.path.isfile(\"../data/medium_term_memory/MTM_update.xml\"):\n",
    "    mtm_update = open(\"../data/medium_term_memory/MTM_update.xml\", \"r\").read()\n",
    "else:\n",
    "    mtm_update = None\n",
    "\n",
    "if mtm_update is not None:\n",
    "    # If the mtm_update.xml file exists, load it into the LLM\n",
    "    response = claude.claude_call(llm_setup, prompts.mtm_update_promt(mtm_current, mtm_update), max_tokens=10000)\n",
    "    print(response)"
   ],
   "metadata": {
    "collapsed": false,
    "ExecuteTime": {
     "end_time": "2023-11-04T22:37:20.438749500Z",
     "start_time": "2023-11-04T22:37:17.173643200Z"
    }
   },
   "id": "c26fb50153de7c96"
  },
  {
   "cell_type": "code",
   "execution_count": 4,
   "outputs": [],
   "source": [
    "# Update the medium term memory\n",
    "update.mtm_update(response)"
   ],
   "metadata": {
    "collapsed": false,
    "ExecuteTime": {
     "end_time": "2023-11-04T22:37:20.493058700Z",
     "start_time": "2023-11-04T22:37:20.444966800Z"
    }
   },
   "id": "9e0b1cb07ee6c5a9"
  },
  {
   "cell_type": "code",
   "execution_count": null,
   "outputs": [],
   "source": [],
   "metadata": {
    "collapsed": false
   },
   "id": "5e3bb24e80607990"
  }
 ],
 "metadata": {
  "kernelspec": {
   "display_name": "Python 3",
   "language": "python",
   "name": "python3"
  },
  "language_info": {
   "codemirror_mode": {
    "name": "ipython",
    "version": 2
   },
   "file_extension": ".py",
   "mimetype": "text/x-python",
   "name": "python",
   "nbconvert_exporter": "python",
   "pygments_lexer": "ipython2",
   "version": "2.7.6"
  }
 },
 "nbformat": 4,
 "nbformat_minor": 5
}
