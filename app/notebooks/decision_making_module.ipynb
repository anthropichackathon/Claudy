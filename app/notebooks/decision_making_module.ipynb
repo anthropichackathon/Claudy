{
 "cells": [
  {
   "cell_type": "code",
   "execution_count": null,
   "id": "initial_id",
   "metadata": {
    "collapsed": true
   },
   "outputs": [],
   "source": [
    "from dotenv import load_dotenv\n",
    "import app.src.utils.claude as claude\n",
    "import app.src.utils.tags as tags\n",
    "import app.src.utils.prompts as prompts\n",
    "\n",
    "load_dotenv()\n",
    "llm_setup = claude.get_anthropic()"
   ]
  },
  {
   "cell_type": "code",
   "execution_count": null,
   "outputs": [],
   "source": [
    "input = \"When is my meeting with boss? My mum is having bithday this weekend. I need to buy her a present.\""
   ],
   "metadata": {
    "collapsed": false
   },
   "id": "aa4cd2ca96d3e1ec"
  },
  {
   "cell_type": "code",
   "execution_count": null,
   "outputs": [],
   "source": [
    "response = claude.claude_call(llm_setup, prompts.decision_prompt(input), max_tokens=10000)\n",
    "print(response)"
   ],
   "metadata": {
    "collapsed": false
   },
   "id": "e51aab8297b3862d"
  },
  {
   "cell_type": "code",
   "execution_count": null,
   "outputs": [],
   "source": [
    "# Create store query\n",
    "try:\n",
    "    store_query = tags.get_tag_content(response, \"store\")\n",
    "except:\n",
    "    store = None\n",
    "    \n",
    "# Create retrieve query\n",
    "try:\n",
    "    retrieve_query = tags.get_tag_content(response, \"retrieve\")\n",
    "except:\n",
    "    retrieve_query = None\n",
    "\n",
    "print(f\"Store query: {store_query}\")\n",
    "print(f\"Retrieve query: {retrieve_query}\")"
   ],
   "metadata": {
    "collapsed": false
   },
   "id": "827ec58bcdd36603"
  }
 ],
 "metadata": {
  "kernelspec": {
   "display_name": "Python 3",
   "language": "python",
   "name": "python3"
  },
  "language_info": {
   "codemirror_mode": {
    "name": "ipython",
    "version": 2
   },
   "file_extension": ".py",
   "mimetype": "text/x-python",
   "name": "python",
   "nbconvert_exporter": "python",
   "pygments_lexer": "ipython2",
   "version": "2.7.6"
  }
 },
 "nbformat": 4,
 "nbformat_minor": 5
}
