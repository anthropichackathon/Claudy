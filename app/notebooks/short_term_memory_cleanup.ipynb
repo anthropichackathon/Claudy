{
 "cells": [
  {
   "cell_type": "code",
   "execution_count": null,
   "id": "initial_id",
   "metadata": {
    "collapsed": true
   },
   "outputs": [],
   "source": [
    "from dotenv import load_dotenv\n",
    "import app.src.utils.claude as claude\n",
    "import app.src.utils.tags as tags\n",
    "import app.src.utils.prompts as prompts\n",
    "import app.src.utils.update as update\n",
    "\n",
    "load_dotenv()\n",
    "llm_setup = claude.get_anthropic()"
   ]
  },
  {
   "cell_type": "code",
   "execution_count": null,
   "outputs": [],
   "source": [
    "stm_current = open(\"../data/short_term_memory/STM_current.xml\", \"r\").read()"
   ],
   "metadata": {
    "collapsed": false
   },
   "id": "592e91713d0732e1"
  },
  {
   "cell_type": "code",
   "execution_count": null,
   "outputs": [],
   "source": [
    "# Check if <slot_7> is filled\n",
    "if tags.get_tag_content(stm_current, \"slot_7\") == \"\":\n",
    "    clean_up = False\n",
    "else:\n",
    "    clean_up = True\n",
    "\n",
    "if clean_up:\n",
    "    response = claude.claude_call(llm_setup, prompts.stm_cleanup_prompt(stm_current), max_tokens=10000)\n",
    "    print(response)"
   ],
   "metadata": {
    "collapsed": false
   },
   "id": "9893409258e5e6f0"
  },
  {
   "cell_type": "code",
   "execution_count": null,
   "outputs": [],
   "source": [
    "# Get the list of chunks for ltm update\n",
    "ltm_update = tags.extract_chunks(response)"
   ],
   "metadata": {
    "collapsed": false
   },
   "id": "4bde6b0088c03615"
  },
  {
   "cell_type": "code",
   "execution_count": null,
   "outputs": [],
   "source": [
    "# Medium term memory update\n",
    "update.mtm_update(response)"
   ],
   "metadata": {
    "collapsed": false
   },
   "id": "a5946ea11c3bafbe"
  }
 ],
 "metadata": {
  "kernelspec": {
   "display_name": "Python 3",
   "language": "python",
   "name": "python3"
  },
  "language_info": {
   "codemirror_mode": {
    "name": "ipython",
    "version": 2
   },
   "file_extension": ".py",
   "mimetype": "text/x-python",
   "name": "python",
   "nbconvert_exporter": "python",
   "pygments_lexer": "ipython2",
   "version": "2.7.6"
  }
 },
 "nbformat": 4,
 "nbformat_minor": 5
}
