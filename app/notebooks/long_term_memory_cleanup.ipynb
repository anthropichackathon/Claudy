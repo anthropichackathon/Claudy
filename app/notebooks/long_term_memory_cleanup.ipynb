{
 "cells": [
  {
   "cell_type": "code",
   "execution_count": 1,
   "id": "initial_id",
   "metadata": {
    "collapsed": true,
    "ExecuteTime": {
     "end_time": "2023-11-04T22:29:36.184163800Z",
     "start_time": "2023-11-04T22:29:32.842788900Z"
    }
   },
   "outputs": [
    {
     "name": "stdout",
     "output_type": "stream",
     "text": [
      "Reading memory from file\n",
      "Memory file read, 6 elements\n"
     ]
    }
   ],
   "source": [
    "\n",
    "from dotenv import load_dotenv\n",
    "\n",
    "import app.src.utils.claude as claude\n",
    "import app.src.utils.prompts as prompts\n",
    "import app.src.utils.tags as tags\n",
    "from src.utils.db import SingletonDataFrame\n",
    "\n",
    "load_dotenv()\n",
    "llm_setup = claude.get_anthropic()\n",
    "db_instance = SingletonDataFrame()"
   ]
  },
  {
   "cell_type": "code",
   "execution_count": 6,
   "outputs": [
    {
     "name": "stdout",
     "output_type": "stream",
     "text": [
      "1. The global economy is showing signs of recovery, with a noticeable increase in job creation. Cybersecurity experts warn of the increasing sophistication of phishing attacks. The impact of social media on mental health is a growing concern among experts.\n",
      "2. Innovations in renewable energy continue to advance the efficiency of solar panels. The latest research in neural networks has yielded significant improvements in language model accuracy. Sustainable farming practices are becoming increasingly prevalent as a response to climate change. Breakthrough in biodegradable plastics could reduce waste in oceans. Quantum computing takes a leap forward with the development of a new type of qubit. A study shows that early education is critical for developing problem-solving skills in children. Artificial intelligence applications are revolutionizing the approach to disease diagnosis and treatment.\n",
      "3. This is some example content 3.\n",
      "4. This is some example content 2.\n",
      "5. This is some example content 4.\n",
      "6. This is some example content 1.\n"
     ]
    }
   ],
   "source": [
    "latest_results = db_instance.get_latest_data()\n",
    "latest_content = [f\"{idx + 1}. {el[0]}\" for idx, el in enumerate(latest_results)]\n",
    "latest_content = \"\\n\".join(latest_content)\n",
    "latest_ids = [el[1] for el in latest_results]\n",
    "print(latest_content)"
   ],
   "metadata": {
    "collapsed": false,
    "ExecuteTime": {
     "end_time": "2023-11-04T22:32:11.344108Z",
     "start_time": "2023-11-04T22:32:11.205831800Z"
    }
   },
   "id": "25a03af681dcf4af"
  },
  {
   "cell_type": "code",
   "execution_count": 7,
   "outputs": [
    {
     "name": "stdout",
     "output_type": "stream",
     "text": [
      " <chunks>\n",
      "<chunk>\n",
      "The global economy is showing signs of recovery, with a noticeable increase in job creation. Cybersecurity experts warn of the increasing sophistication of phishing attacks. The impact of social media on mental health is a growing concern among experts. Innovations in renewable energy continue to advance the efficiency of solar panels. The latest research in neural networks has yielded significant improvements in language model accuracy. Sustainable farming practices are becoming increasingly prevalent as a response to climate change. Breakthrough in biodegradable plastics could reduce waste in oceans. Quantum computing takes a leap forward with the development of a new type of qubit. A study shows that early education is critical for developing problem-solving skills in children. Artificial intelligence applications are revolutionizing the approach to disease diagnosis and treatment.\n",
      "</chunk>\n",
      "<chunk>\n",
      "This is some example content 3. This is some example content 2. This is some example content 4. This is some example content 1. in the close meaning of the search query.\n",
      "</chunk>\n",
      "</chunks>\n"
     ]
    }
   ],
   "source": [
    "response = claude.claude_call(llm_setup, prompts.ltm_cleanup_prompt(latest_content), max_tokens=10000)\n",
    "print(response)"
   ],
   "metadata": {
    "collapsed": false,
    "ExecuteTime": {
     "end_time": "2023-11-04T22:32:22.513288700Z",
     "start_time": "2023-11-04T22:32:17.265942600Z"
    }
   },
   "id": "109dd9ab4900eb13"
  },
  {
   "cell_type": "code",
   "execution_count": 8,
   "outputs": [],
   "source": [
    "# Get the list of chunks for ltm update\n",
    "ltm_update = tags.extract_chunks(response)\n",
    "ltm_update_dict = [{\"content\": chunk} for chunk in ltm_update]"
   ],
   "metadata": {
    "collapsed": false,
    "ExecuteTime": {
     "end_time": "2023-11-04T22:32:51.728090200Z",
     "start_time": "2023-11-04T22:32:51.720158200Z"
    }
   },
   "id": "404f53667e723e4e"
  },
  {
   "cell_type": "code",
   "execution_count": 9,
   "outputs": [
    {
     "data": {
      "text/plain": "[{'content': 'The global economy is showing signs of recovery, with a noticeable increase in job creation. Cybersecurity experts warn of the increasing sophistication of phishing attacks. The impact of social media on mental health is a growing concern among experts. Innovations in renewable energy continue to advance the efficiency of solar panels. The latest research in neural networks has yielded significant improvements in language model accuracy. Sustainable farming practices are becoming increasingly prevalent as a response to climate change. Breakthrough in biodegradable plastics could reduce waste in oceans. Quantum computing takes a leap forward with the development of a new type of qubit. A study shows that early education is critical for developing problem-solving skills in children. Artificial intelligence applications are revolutionizing the approach to disease diagnosis and treatment.'},\n {'content': 'This is some example content 3. This is some example content 2. This is some example content 4. This is some example content 1. in the close meaning of the search query.'}]"
     },
     "execution_count": 9,
     "metadata": {},
     "output_type": "execute_result"
    }
   ],
   "source": [
    "ltm_update_dict"
   ],
   "metadata": {
    "collapsed": false,
    "ExecuteTime": {
     "end_time": "2023-11-04T22:32:52.567698800Z",
     "start_time": "2023-11-04T22:32:52.524056Z"
    }
   },
   "id": "d71b5834e4772109"
  },
  {
   "cell_type": "code",
   "execution_count": 10,
   "outputs": [
    {
     "name": "stdout",
     "output_type": "stream",
     "text": [
      "Data deleted\n",
      "0\n"
     ]
    }
   ],
   "source": [
    "db_instance.delete_data(latest_ids)"
   ],
   "metadata": {
    "collapsed": false,
    "ExecuteTime": {
     "end_time": "2023-11-04T22:33:47.689461Z",
     "start_time": "2023-11-04T22:33:47.625361100Z"
    }
   },
   "id": "28ac78d57a689d2d"
  },
  {
   "cell_type": "code",
   "execution_count": 11,
   "outputs": [
    {
     "name": "stdout",
     "output_type": "stream",
     "text": [
      "Data added\n",
      "Data added\n"
     ]
    }
   ],
   "source": [
    "db_instance.insert_embeddings(ltm_update_dict)"
   ],
   "metadata": {
    "collapsed": false,
    "ExecuteTime": {
     "end_time": "2023-11-04T22:34:02.756213600Z",
     "start_time": "2023-11-04T22:34:02.175545600Z"
    }
   },
   "id": "ba9c0274a5f8e4b0"
  },
  {
   "cell_type": "code",
   "execution_count": 12,
   "outputs": [
    {
     "data": {
      "text/plain": "                                             content                vec_id  \\\n0  The global economy is showing signs of recover...  S8772988939405183386   \n1  This is some example content 3. This is some e...     S7163237961211514   \n\n                         date  \\\n0  2023-11-04 22:34:02.174544   \n1  2023-11-04 22:34:02.614968   \n\n                                           embedding  \n0  [-0.016932638362050056, -0.006009753327816725,...  \n1  [-0.008311282843351364, 0.003164449008181691, ...  ",
      "text/html": "<div>\n<style scoped>\n    .dataframe tbody tr th:only-of-type {\n        vertical-align: middle;\n    }\n\n    .dataframe tbody tr th {\n        vertical-align: top;\n    }\n\n    .dataframe thead th {\n        text-align: right;\n    }\n</style>\n<table border=\"1\" class=\"dataframe\">\n  <thead>\n    <tr style=\"text-align: right;\">\n      <th></th>\n      <th>content</th>\n      <th>vec_id</th>\n      <th>date</th>\n      <th>embedding</th>\n    </tr>\n  </thead>\n  <tbody>\n    <tr>\n      <th>0</th>\n      <td>The global economy is showing signs of recover...</td>\n      <td>S8772988939405183386</td>\n      <td>2023-11-04 22:34:02.174544</td>\n      <td>[-0.016932638362050056, -0.006009753327816725,...</td>\n    </tr>\n    <tr>\n      <th>1</th>\n      <td>This is some example content 3. This is some e...</td>\n      <td>S7163237961211514</td>\n      <td>2023-11-04 22:34:02.614968</td>\n      <td>[-0.008311282843351364, 0.003164449008181691, ...</td>\n    </tr>\n  </tbody>\n</table>\n</div>"
     },
     "execution_count": 12,
     "metadata": {},
     "output_type": "execute_result"
    }
   ],
   "source": [
    "db_instance.get_df()"
   ],
   "metadata": {
    "collapsed": false,
    "ExecuteTime": {
     "end_time": "2023-11-04T22:34:03.888170600Z",
     "start_time": "2023-11-04T22:34:03.842693100Z"
    }
   },
   "id": "1d6387eb897f61ff"
  },
  {
   "cell_type": "code",
   "execution_count": null,
   "outputs": [],
   "source": [],
   "metadata": {
    "collapsed": false
   },
   "id": "dca25f269b35d6db"
  }
 ],
 "metadata": {
  "kernelspec": {
   "display_name": "Python 3",
   "language": "python",
   "name": "python3"
  },
  "language_info": {
   "codemirror_mode": {
    "name": "ipython",
    "version": 2
   },
   "file_extension": ".py",
   "mimetype": "text/x-python",
   "name": "python",
   "nbconvert_exporter": "python",
   "pygments_lexer": "ipython2",
   "version": "2.7.6"
  }
 },
 "nbformat": 4,
 "nbformat_minor": 5
}
