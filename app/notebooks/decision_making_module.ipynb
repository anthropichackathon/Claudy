{
 "cells": [
  {
   "cell_type": "code",
   "execution_count": 1,
   "id": "initial_id",
   "metadata": {
    "collapsed": true,
    "ExecuteTime": {
     "end_time": "2023-11-04T22:12:39.752771800Z",
     "start_time": "2023-11-04T22:12:39.195274900Z"
    }
   },
   "outputs": [],
   "source": [
    "from dotenv import load_dotenv\n",
    "import app.src.utils.claude as claude\n",
    "import app.src.utils.tags as tags\n",
    "import app.src.utils.prompts as prompts\n",
    "\n",
    "load_dotenv()\n",
    "llm_setup = claude.get_anthropic()"
   ]
  },
  {
   "cell_type": "code",
   "execution_count": 2,
   "outputs": [],
   "source": [
    "input = \"When is my meeting with boss? My mum is having bithday this weekend. I need to buy her a present.\""
   ],
   "metadata": {
    "collapsed": false,
    "ExecuteTime": {
     "end_time": "2023-11-04T22:12:40.287676600Z",
     "start_time": "2023-11-04T22:12:40.285104200Z"
    }
   },
   "id": "aa4cd2ca96d3e1ec"
  },
  {
   "cell_type": "code",
   "execution_count": 3,
   "outputs": [
    {
     "name": "stdout",
     "output_type": "stream",
     "text": [
      " <retrieve>When is my meeting with boss?</retrieve>\n",
      "<store>My mum is having bithday this weekend. I need to buy her a present.</store>\n"
     ]
    }
   ],
   "source": [
    "response = claude.claude_call(llm_setup, prompts.decision_prompt(input), max_tokens=10000)\n",
    "print(response)"
   ],
   "metadata": {
    "collapsed": false,
    "ExecuteTime": {
     "end_time": "2023-11-04T22:12:42.551346700Z",
     "start_time": "2023-11-04T22:12:40.936709Z"
    }
   },
   "id": "e51aab8297b3862d"
  },
  {
   "cell_type": "code",
   "execution_count": 4,
   "outputs": [
    {
     "name": "stdout",
     "output_type": "stream",
     "text": [
      "Store query: My mum is having bithday this weekend. I need to buy her a present.\n",
      "Retrieve query: When is my meeting with boss?\n"
     ]
    }
   ],
   "source": [
    "# Create store query\n",
    "try:\n",
    "    store_query = tags.get_tag_content(response, \"store\")\n",
    "except:\n",
    "    store = None\n",
    "    \n",
    "# Create retrieve query\n",
    "try:\n",
    "    retrieve_query = tags.get_tag_content(response, \"retrieve\")\n",
    "except:\n",
    "    retrieve_query = None\n",
    "\n",
    "print(f\"Store query: {store_query}\")\n",
    "print(f\"Retrieve query: {retrieve_query}\")"
   ],
   "metadata": {
    "collapsed": false,
    "ExecuteTime": {
     "end_time": "2023-11-04T22:12:51.229503800Z",
     "start_time": "2023-11-04T22:12:51.211138400Z"
    }
   },
   "id": "827ec58bcdd36603"
  },
  {
   "cell_type": "code",
   "execution_count": null,
   "outputs": [],
   "source": [],
   "metadata": {
    "collapsed": false
   },
   "id": "ac9454dd313eabf3"
  }
 ],
 "metadata": {
  "kernelspec": {
   "display_name": "Python 3",
   "language": "python",
   "name": "python3"
  },
  "language_info": {
   "codemirror_mode": {
    "name": "ipython",
    "version": 2
   },
   "file_extension": ".py",
   "mimetype": "text/x-python",
   "name": "python",
   "nbconvert_exporter": "python",
   "pygments_lexer": "ipython2",
   "version": "2.7.6"
  }
 },
 "nbformat": 4,
 "nbformat_minor": 5
}
