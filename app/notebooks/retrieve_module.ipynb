{
 "cells": [
  {
   "cell_type": "code",
   "execution_count": 1,
   "outputs": [
    {
     "name": "stdout",
     "output_type": "stream",
     "text": [
      "Reading memory from file\n",
      "Memory file read, 2 elements\n"
     ]
    }
   ],
   "source": [
    "import os\n",
    "\n",
    "from dotenv import load_dotenv\n",
    "\n",
    "import app.src.utils.claude as claude\n",
    "import app.src.utils.prompts as prompts\n",
    "import app.src.utils.tags as tags\n",
    "from src.utils.db import SingletonDataFrame\n",
    "from src.utils.openai import setup_openai\n",
    "\n",
    "load_dotenv()\n",
    "setup_openai()\n",
    "llm_setup = claude.get_anthropic()\n",
    "db_instance = SingletonDataFrame()"
   ],
   "metadata": {
    "collapsed": false,
    "ExecuteTime": {
     "end_time": "2023-11-04T22:34:43.140612200Z",
     "start_time": "2023-11-04T22:34:40.715687400Z"
    }
   },
   "id": "6d239e274630ad62"
  },
  {
   "cell_type": "code",
   "execution_count": 2,
   "id": "initial_id",
   "metadata": {
    "collapsed": true,
    "ExecuteTime": {
     "end_time": "2023-11-04T22:34:44.061529300Z",
     "start_time": "2023-11-04T22:34:44.028675700Z"
    }
   },
   "outputs": [],
   "source": [
    "# Load short-term memory\n",
    "if os.path.isfile(\"../data/short_term_memory/STM_current.xml\"):\n",
    "    stm_current = open(\"../data/short_term_memory/STM_current.xml\", \"r\").read()\n",
    "else:\n",
    "    stm_current = \"\"\n",
    "\n",
    "if os.path.isfile(\"../data/medium_term_memory/MTM_current.xml\"):\n",
    "    mtm_current = open(\"../data/medium_term_memory/MTM_current.xml\", \"r\").read()\n",
    "else:\n",
    "    mtm_current = \"\""
   ]
  },
  {
   "cell_type": "code",
   "execution_count": 3,
   "outputs": [],
   "source": [
    "# User query\n",
    "user_query = \"What is the capital of France?\""
   ],
   "metadata": {
    "collapsed": false,
    "ExecuteTime": {
     "end_time": "2023-11-04T22:34:44.675035300Z",
     "start_time": "2023-11-04T22:34:44.664099600Z"
    }
   },
   "id": "11fb86e535f7ef"
  },
  {
   "cell_type": "code",
   "execution_count": 4,
   "outputs": [
    {
     "name": "stdout",
     "output_type": "stream",
     "text": [
      " <optimized_query>What is the capital city of France?</optimized_query>\n"
     ]
    }
   ],
   "source": [
    "response = claude.claude_call(llm_setup, prompts.retrieve_prompt(user_query), max_tokens=300)\n",
    "print(response)"
   ],
   "metadata": {
    "collapsed": false,
    "ExecuteTime": {
     "end_time": "2023-11-04T22:34:47.243490100Z",
     "start_time": "2023-11-04T22:34:46.128364700Z"
    }
   },
   "id": "a52d859d32c424e9"
  },
  {
   "cell_type": "code",
   "execution_count": 5,
   "outputs": [],
   "source": [
    "# Get the optimized query\n",
    "optimized_query = tags.get_tag_content(response, \"optimized_query\")"
   ],
   "metadata": {
    "collapsed": false,
    "ExecuteTime": {
     "end_time": "2023-11-04T22:34:47.292852Z",
     "start_time": "2023-11-04T22:34:47.244510100Z"
    }
   },
   "id": "bff546ea29343279"
  },
  {
   "cell_type": "code",
   "execution_count": 7,
   "outputs": [
    {
     "data": {
      "text/plain": "['The global economy is showing signs of recovery, with a noticeable increase in job creation. Cybersecurity experts warn of the increasing sophistication of phishing attacks. The impact of social media on mental health is a growing concern among experts. Innovations in renewable energy continue to advance the efficiency of solar panels. The latest research in neural networks has yielded significant improvements in language model accuracy. Sustainable farming practices are becoming increasingly prevalent as a response to climate change. Breakthrough in biodegradable plastics could reduce waste in oceans. Quantum computing takes a leap forward with the development of a new type of qubit. A study shows that early education is critical for developing problem-solving skills in children. Artificial intelligence applications are revolutionizing the approach to disease diagnosis and treatment.',\n 'This is some example content 3. This is some example content 2. This is some example content 4. This is some example content 1. in the close meaning of the search query.']"
     },
     "execution_count": 7,
     "metadata": {},
     "output_type": "execute_result"
    }
   ],
   "source": [
    "# Get the search result\n",
    "search_result = db_instance.semantic_search(optimized_query, top_k=20)\n",
    "content_results = [el[0] for el in search_result]\n",
    "content_results"
   ],
   "metadata": {
    "collapsed": false,
    "ExecuteTime": {
     "end_time": "2023-11-04T22:35:25.684969900Z",
     "start_time": "2023-11-04T22:35:25.146870800Z"
    }
   },
   "id": "52842dc8105e5735"
  },
  {
   "cell_type": "code",
   "execution_count": 8,
   "outputs": [],
   "source": [
    "# Connect all memories into one string\n",
    "all_memories = stm_current + mtm_current + f\"\\n<long_term_memory>{content_results}</long_term_memory>\""
   ],
   "metadata": {
    "collapsed": false,
    "ExecuteTime": {
     "end_time": "2023-11-04T22:35:32.022016Z",
     "start_time": "2023-11-04T22:35:32.013398800Z"
    }
   },
   "id": "3c231f6531cac9a0"
  },
  {
   "cell_type": "code",
   "execution_count": 9,
   "outputs": [
    {
     "name": "stdout",
     "output_type": "stream",
     "text": [
      "<short_term_memory>\n",
      "    <context>\n",
      "        This is a short-term memory of the AI assistant. It is used to store the latest information. The memory contains 10 slots for most current topics.\n",
      "    </context>\n",
      "    <memory_slots>\n",
      "        <slot_1></slot_1>\n",
      "        <slot_2></slot_2>\n",
      "        <slot_3></slot_3>\n",
      "        <slot_4></slot_4>\n",
      "        <slot_5></slot_5>\n",
      "        <slot_6></slot_6>\n",
      "        <slot_7></slot_7>\n",
      "        <slot_8></slot_8>\n",
      "        <slot_9></slot_9>\n",
      "        <slot_10></slot_10>\n",
      "    </memory_slots>\n",
      "</short_term_memory><medium_term_memory>\n",
      "    <context>\n",
      "        This is a medium term memory of the AI assistant. It is used to store the general information regarding the closer future. The memory contains 3 defined topics.\n",
      "    </context>\n",
      "    <to_do_list>\n",
      "- Paint living room  \n",
      "- Go to the vet with my dog\n",
      "    </to_do_list>\n",
      "    <goals_with_deadlines></goals_with_deadlines>\n",
      "    <reminders>\n",
      "- My mam is sick    \n",
      "    </reminders>\n",
      "</medium_term_memory>\n",
      "<long_term_memory>['The global economy is showing signs of recovery, with a noticeable increase in job creation. Cybersecurity experts warn of the increasing sophistication of phishing attacks. The impact of social media on mental health is a growing concern among experts. Innovations in renewable energy continue to advance the efficiency of solar panels. The latest research in neural networks has yielded significant improvements in language model accuracy. Sustainable farming practices are becoming increasingly prevalent as a response to climate change. Breakthrough in biodegradable plastics could reduce waste in oceans. Quantum computing takes a leap forward with the development of a new type of qubit. A study shows that early education is critical for developing problem-solving skills in children. Artificial intelligence applications are revolutionizing the approach to disease diagnosis and treatment.', 'This is some example content 3. This is some example content 2. This is some example content 4. This is some example content 1. in the close meaning of the search query.']</long_term_memory>\n"
     ]
    }
   ],
   "source": [
    "print(all_memories)"
   ],
   "metadata": {
    "collapsed": false,
    "ExecuteTime": {
     "end_time": "2023-11-04T22:35:32.414613200Z",
     "start_time": "2023-11-04T22:35:32.395279Z"
    }
   },
   "id": "f665ce7f18879f7"
  },
  {
   "cell_type": "code",
   "execution_count": null,
   "outputs": [],
   "source": [],
   "metadata": {
    "collapsed": false
   },
   "id": "7c0fb5e3a70854de"
  }
 ],
 "metadata": {
  "kernelspec": {
   "display_name": "Python 3",
   "language": "python",
   "name": "python3"
  },
  "language_info": {
   "codemirror_mode": {
    "name": "ipython",
    "version": 2
   },
   "file_extension": ".py",
   "mimetype": "text/x-python",
   "name": "python",
   "nbconvert_exporter": "python",
   "pygments_lexer": "ipython2",
   "version": "2.7.6"
  }
 },
 "nbformat": 4,
 "nbformat_minor": 5
}
