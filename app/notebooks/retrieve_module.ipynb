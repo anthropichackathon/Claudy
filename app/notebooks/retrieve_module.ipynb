{
 "cells": [
  {
   "cell_type": "code",
   "execution_count": null,
   "outputs": [],
   "source": [
    "import os\n",
    "from dotenv import load_dotenv\n",
    "import app.src.utils.claude as claude\n",
    "import app.src.utils.tags as tags\n",
    "import app.src.utils.prompts as prompts\n",
    "\n",
    "load_dotenv()\n",
    "llm_setup = claude.get_anthropic()"
   ],
   "metadata": {
    "collapsed": false
   },
   "id": "6d239e274630ad62"
  },
  {
   "cell_type": "code",
   "execution_count": null,
   "id": "initial_id",
   "metadata": {
    "collapsed": true
   },
   "outputs": [],
   "source": [
    "# Load short-term memory\n",
    "if os.path.isfile(\"../data/short_term_memory/STM_current.xml\"):\n",
    "    stm_current = open(\"../data/short_term_memory/STM_current.xml\", \"r\").read()\n",
    "else:\n",
    "    stm_current = \"\"\n",
    "\n",
    "if os.path.isfile(\"../data/medium_term_memory/MTM_current.xml\"):\n",
    "    mtm_current = open(\"../data/medium_term_memory/MTM_current.xml\", \"r\").read()\n",
    "else:\n",
    "    mtm_current = \"\""
   ]
  },
  {
   "cell_type": "code",
   "execution_count": null,
   "outputs": [],
   "source": [
    "# User query\n",
    "user_query = \"What is the capital of France?\""
   ],
   "metadata": {
    "collapsed": false
   },
   "id": "11fb86e535f7ef"
  },
  {
   "cell_type": "code",
   "execution_count": null,
   "outputs": [],
   "source": [
    "response = claude.claude_call(llm_setup, prompts.retrieve_prompt(user_query), max_tokens=300)\n",
    "print(response)"
   ],
   "metadata": {
    "collapsed": false
   },
   "id": "a52d859d32c424e9"
  },
  {
   "cell_type": "code",
   "execution_count": null,
   "outputs": [],
   "source": [
    "# Get the optimized query\n",
    "optimized_query = tags.get_tag_content(response, \"optimized_query\")\n",
    "\n",
    "# Define function for semantic search\n",
    "def semantic_search(query):\n",
    "    # placeholder for semantic search\n",
    "    search_result = \"Your mum\"\n",
    "    return search_result"
   ],
   "metadata": {
    "collapsed": false
   },
   "id": "bff546ea29343279"
  },
  {
   "cell_type": "code",
   "execution_count": null,
   "outputs": [],
   "source": [
    "# Get the search result\n",
    "search_result = semantic_search(optimized_query)"
   ],
   "metadata": {
    "collapsed": false
   },
   "id": "52842dc8105e5735"
  },
  {
   "cell_type": "code",
   "execution_count": null,
   "outputs": [],
   "source": [
    "# Connect all memories into one string\n",
    "all_memories = stm_current + mtm_current + f\"\\n<long_term_memory>{search_result}</long_term_memory>\""
   ],
   "metadata": {
    "collapsed": false
   },
   "id": "3c231f6531cac9a0"
  },
  {
   "cell_type": "code",
   "execution_count": null,
   "outputs": [],
   "source": [
    "print(all_memories)"
   ],
   "metadata": {
    "collapsed": false
   },
   "id": "f665ce7f18879f7"
  }
 ],
 "metadata": {
  "kernelspec": {
   "display_name": "Python 3",
   "language": "python",
   "name": "python3"
  },
  "language_info": {
   "codemirror_mode": {
    "name": "ipython",
    "version": 2
   },
   "file_extension": ".py",
   "mimetype": "text/x-python",
   "name": "python",
   "nbconvert_exporter": "python",
   "pygments_lexer": "ipython2",
   "version": "2.7.6"
  }
 },
 "nbformat": 4,
 "nbformat_minor": 5
}
