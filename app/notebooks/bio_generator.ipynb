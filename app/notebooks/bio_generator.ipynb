{
 "cells": [
  {
   "cell_type": "code",
   "execution_count": 1,
   "id": "initial_id",
   "metadata": {
    "collapsed": true,
    "ExecuteTime": {
     "end_time": "2023-11-04T22:13:34.841959400Z",
     "start_time": "2023-11-04T22:13:34.311341100Z"
    }
   },
   "outputs": [],
   "source": [
    "from dotenv import load_dotenv\n",
    "import app.src.utils.claude as claude\n",
    "import app.src.utils.prompts as prompts\n",
    "import app.src.utils.update as update\n",
    "\n",
    "load_dotenv()\n",
    "llm_setup = claude.get_anthropic()"
   ]
  },
  {
   "cell_type": "code",
   "execution_count": 2,
   "outputs": [],
   "source": [
    "# Simulated input from the human\n",
    "input = \"Hi, My name is John. I am 30 years old, my favorite color is blue, and I like to play tennis. I work as accountant. My goal is to become professional chef. I have to clean the dishes.\""
   ],
   "metadata": {
    "collapsed": false,
    "ExecuteTime": {
     "end_time": "2023-11-04T22:13:35.516386900Z",
     "start_time": "2023-11-04T22:13:35.489743400Z"
    }
   },
   "id": "429091dce5fd9bfe"
  },
  {
   "cell_type": "code",
   "execution_count": 3,
   "outputs": [],
   "source": [
    "# Import xml templates as strings\n",
    "bio_template = open(\"../data/bio/BIO_template.xml\", \"r\").read()"
   ],
   "metadata": {
    "collapsed": false,
    "ExecuteTime": {
     "end_time": "2023-11-04T22:13:35.803491200Z",
     "start_time": "2023-11-04T22:13:35.786580700Z"
    }
   },
   "id": "f08ee3c0b0d1acdd"
  },
  {
   "cell_type": "code",
   "execution_count": 4,
   "outputs": [],
   "source": [
    "response = claude.claude_call(llm_setup, prompts.bio_prompt(input), max_tokens=10000)"
   ],
   "metadata": {
    "collapsed": false,
    "ExecuteTime": {
     "end_time": "2023-11-04T22:13:41.315043100Z",
     "start_time": "2023-11-04T22:13:36.207762100Z"
    }
   },
   "id": "9d6aa49fbd48a691"
  },
  {
   "cell_type": "code",
   "execution_count": 5,
   "outputs": [],
   "source": [
    "# Update the bio\n",
    "update.bio_update(response)\n",
    "\n",
    "# Update the STM\n",
    "update.stm_update(response)\n"
   ],
   "metadata": {
    "collapsed": false,
    "ExecuteTime": {
     "end_time": "2023-11-04T22:13:41.329561700Z",
     "start_time": "2023-11-04T22:13:41.316043300Z"
    }
   },
   "id": "5d1fb24ea1f75a03"
  },
  {
   "cell_type": "code",
   "execution_count": null,
   "outputs": [],
   "source": [],
   "metadata": {
    "collapsed": false
   },
   "id": "d4d9a295ad1d7a99"
  }
 ],
 "metadata": {
  "kernelspec": {
   "display_name": "Python 3",
   "language": "python",
   "name": "python3"
  },
  "language_info": {
   "codemirror_mode": {
    "name": "ipython",
    "version": 2
   },
   "file_extension": ".py",
   "mimetype": "text/x-python",
   "name": "python",
   "nbconvert_exporter": "python",
   "pygments_lexer": "ipython2",
   "version": "2.7.6"
  }
 },
 "nbformat": 4,
 "nbformat_minor": 5
}
