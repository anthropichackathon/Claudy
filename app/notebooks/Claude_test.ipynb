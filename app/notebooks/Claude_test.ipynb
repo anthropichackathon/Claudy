{
 "cells": [
  {
   "cell_type": "code",
   "execution_count": 1,
   "outputs": [
    {
     "data": {
      "text/plain": "True"
     },
     "execution_count": 1,
     "metadata": {},
     "output_type": "execute_result"
    }
   ],
   "source": [
    "import os\n",
    "\n",
    "from anthropic import Anthropic, HUMAN_PROMPT, AI_PROMPT\n",
    "from dotenv import load_dotenv\n",
    "\n",
    "load_dotenv()"
   ],
   "metadata": {
    "collapsed": false,
    "ExecuteTime": {
     "end_time": "2023-11-04T13:54:08.833624500Z",
     "start_time": "2023-11-04T13:54:08.495452200Z"
    }
   },
   "id": "370641915282610e"
  },
  {
   "cell_type": "code",
   "execution_count": 2,
   "id": "initial_id",
   "metadata": {
    "collapsed": true,
    "ExecuteTime": {
     "end_time": "2023-11-04T13:54:21.449456900Z",
     "start_time": "2023-11-04T13:54:10.575118800Z"
    }
   },
   "outputs": [
    {
     "name": "stdout",
     "output_type": "stream",
     "text": [
      " Dogs have 4 toes on each of their front paws and 4 toes on each of their back paws, for a total of 20 toes.\n",
      "\n",
      "Specifically:\n",
      "\n",
      "- Front paws: Dogs have 5 digits on their front paws, but the innermost digit (the dewclaw) usually does not touch the ground and is not counted as a toe. The other 4 digits have toes.\n",
      "\n",
      "- Back paws: Dogs have 4 digits on their back paws and each digit has a toe. \n",
      "\n",
      "So in summary:\n",
      "\n",
      "- Front paws: 4 toes x 2 front paws = 8 toes\n",
      "- Back paws: 4 toes x 2 back paws = 8 toes \n",
      "- Total toes = 8 (front) + 8 (back) = 16 toes\n",
      "\n",
      "Some additional key points:\n",
      "\n",
      "- The number of toes can vary slightly by breed. For example, some breeds may have their dewclaws removed. \n",
      "\n",
      "- Injury or illness can also sometimes lead to missing or amputated toes. \n",
      "\n",
      "- Polydactyl dogs (also called \"double-toed\") may have extra toes due to a genetic mutation.\n",
      "\n",
      "But in general, the typical dog has 4 toes on each front paw and 4 toes on each back paw, making 16 toes total.\n"
     ]
    }
   ],
   "source": [
    "api_key = os.getenv(\"CLAUDE_API_KEY\")\n",
    "anthropic = Anthropic(api_key=api_key)\n",
    "completion = anthropic.completions.create(\n",
    "    model=\"claude-2\",\n",
    "    max_tokens_to_sample=300,\n",
    "    prompt=f\"{HUMAN_PROMPT} How many toes do dogs have?{AI_PROMPT}\",\n",
    ")\n",
    "print(completion.completion)"
   ]
  },
  {
   "cell_type": "code",
   "execution_count": null,
   "outputs": [],
   "source": [],
   "metadata": {
    "collapsed": false
   },
   "id": "bbfabf6c69d1e4fe"
  }
 ],
 "metadata": {
  "kernelspec": {
   "display_name": "Python 3",
   "language": "python",
   "name": "python3"
  },
  "language_info": {
   "codemirror_mode": {
    "name": "ipython",
    "version": 2
   },
   "file_extension": ".py",
   "mimetype": "text/x-python",
   "name": "python",
   "nbconvert_exporter": "python",
   "pygments_lexer": "ipython2",
   "version": "2.7.6"
  }
 },
 "nbformat": 4,
 "nbformat_minor": 5
}
