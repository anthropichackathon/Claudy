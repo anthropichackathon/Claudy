{
 "cells": [
  {
   "cell_type": "code",
   "execution_count": 3,
   "outputs": [],
   "source": [
    "from dotenv import load_dotenv\n",
    "from anthropic import HUMAN_PROMPT, AI_PROMPT\n",
    "import app.src.utils.claude as claude\n",
    "\n",
    "load_dotenv()\n",
    "llm_setup = claude.get_anthropic()"
   ],
   "metadata": {
    "collapsed": false,
    "ExecuteTime": {
     "end_time": "2023-11-04T14:57:08.652543800Z",
     "start_time": "2023-11-04T14:57:08.611364400Z"
    }
   },
   "id": "d6c6fcc71ff3eb86"
  },
  {
   "cell_type": "code",
   "execution_count": 4,
   "outputs": [],
   "source": [
    "response = claude.claude_call(llm_setup, f\"{HUMAN_PROMPT} How many toes do dogs have?{AI_PROMPT}\")"
   ],
   "metadata": {
    "collapsed": false,
    "ExecuteTime": {
     "end_time": "2023-11-04T14:57:18.821657Z",
     "start_time": "2023-11-04T14:57:11.145530200Z"
    }
   },
   "id": "59593d6219a2d174"
  },
  {
   "cell_type": "code",
   "execution_count": 5,
   "outputs": [
    {
     "name": "stdout",
     "output_type": "stream",
     "text": [
      " Dogs typically have 4 toes on each of their front paws and 4 toes on each of their hind paws, for a total of 18 toes.\n",
      "\n",
      "Specifically:\n",
      "\n",
      "- Front paws: Dogs have 5 digits on their front paws, but the innermost digit (their \"thumb\") doesn't touch the ground and isn't counted as a toe. The other 4 digits have toes.\n",
      "\n",
      "- Hind paws: Dogs have 4 digits on their hind paws and each digit has a toe. \n",
      "\n",
      "- Total: With 4 toes on each front paw and 4 toes on each hind paw, dogs have a total of 18 toes.\n",
      "\n",
      "However, there are some exceptions. Some dogs are polydactyl and can have extra toes. There are also syndromes like ectrodactyly where dogs may be missing toes. But in general, the normal number of toes for dogs is 18.\n"
     ]
    }
   ],
   "source": [
    "print(response)"
   ],
   "metadata": {
    "collapsed": false,
    "ExecuteTime": {
     "end_time": "2023-11-04T14:57:23.806230800Z",
     "start_time": "2023-11-04T14:57:23.723651500Z"
    }
   },
   "id": "10013e6b76724daa"
  },
  {
   "cell_type": "code",
   "execution_count": null,
   "outputs": [],
   "source": [],
   "metadata": {
    "collapsed": false
   },
   "id": "11f1a121278639e"
  }
 ],
 "metadata": {
  "kernelspec": {
   "display_name": "Python 3",
   "language": "python",
   "name": "python3"
  },
  "language_info": {
   "codemirror_mode": {
    "name": "ipython",
    "version": 2
   },
   "file_extension": ".py",
   "mimetype": "text/x-python",
   "name": "python",
   "nbconvert_exporter": "python",
   "pygments_lexer": "ipython2",
   "version": "2.7.6"
  }
 },
 "nbformat": 4,
 "nbformat_minor": 5
}
