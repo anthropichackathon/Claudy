{
 "cells": [
  {
   "cell_type": "code",
   "execution_count": null,
   "id": "initial_id",
   "metadata": {
    "collapsed": true
   },
   "outputs": [],
   "source": [
    "from dotenv import load_dotenv\n",
    "import app.src.utils.claude as claude\n",
    "import app.src.utils.tags as tags\n",
    "import app.src.utils.prompts as prompts\n",
    "\n",
    "load_dotenv()\n",
    "llm_setup = claude.get_anthropic()"
   ]
  },
  {
   "cell_type": "code",
   "execution_count": null,
   "outputs": [],
   "source": [
    "bio = open(\"../data/bio/BIO.xml\", \"r\").read()"
   ],
   "metadata": {
    "collapsed": false
   },
   "id": "f0be44bb658b6cfb"
  },
  {
   "cell_type": "code",
   "execution_count": null,
   "outputs": [],
   "source": [
    "user_question = \"What is name of my grandma\""
   ],
   "metadata": {
    "collapsed": false
   },
   "id": "349c9a203faf52de"
  },
  {
   "cell_type": "code",
   "execution_count": null,
   "outputs": [],
   "source": [
    "memory = \"placeholder\"\n"
   ],
   "metadata": {
    "collapsed": false
   },
   "id": "19aee6bf29e92da9"
  },
  {
   "cell_type": "code",
   "execution_count": null,
   "outputs": [],
   "source": [
    "response = claude.claude_call(llm_setup, prompts.output_processing_prompt(bio, memory, user_question), max_tokens=10000)"
   ],
   "metadata": {
    "collapsed": false
   },
   "id": "2f46e34300e6b687"
  },
  {
   "cell_type": "code",
   "execution_count": null,
   "outputs": [],
   "source": [
    "# Get the response\n",
    "response = tags.get_tag_content(response, \"response\")"
   ],
   "metadata": {
    "collapsed": false
   },
   "id": "f56ea76fe0b9fd81"
  },
  {
   "cell_type": "code",
   "execution_count": null,
   "outputs": [],
   "source": [
    "print(response)"
   ],
   "metadata": {
    "collapsed": false
   },
   "id": "1d6e06c17a40988a"
  }
 ],
 "metadata": {
  "kernelspec": {
   "display_name": "Python 3",
   "language": "python",
   "name": "python3"
  },
  "language_info": {
   "codemirror_mode": {
    "name": "ipython",
    "version": 2
   },
   "file_extension": ".py",
   "mimetype": "text/x-python",
   "name": "python",
   "nbconvert_exporter": "python",
   "pygments_lexer": "ipython2",
   "version": "2.7.6"
  }
 },
 "nbformat": 4,
 "nbformat_minor": 5
}
